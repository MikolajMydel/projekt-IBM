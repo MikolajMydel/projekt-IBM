{
 "cells": [
  {
   "cell_type": "markdown",
   "id": "14e9f206-c45e-4aec-993f-750fef5cde8e",
   "metadata": {},
   "source": [
    "# Libraries"
   ]
  },
  {
   "cell_type": "code",
   "execution_count": 48,
   "id": "fdba12c5-b46e-4fc1-8768-0f30be23b66c",
   "metadata": {},
   "outputs": [],
   "source": [
    "import pandas as pd\n",
    "import matplotlib.pyplot as plt\n",
    "import numpy as np"
   ]
  },
  {
   "cell_type": "markdown",
   "id": "03883e88-1e6e-4bff-93e2-aab19f68e81e",
   "metadata": {},
   "source": [
    "# Data import"
   ]
  },
  {
   "cell_type": "code",
   "execution_count": 49,
   "id": "99fac0e8-f119-47f4-b25f-9c346fb03360",
   "metadata": {
    "tags": []
   },
   "outputs": [
    {
     "data": {
      "text/html": [
       "<div>\n",
       "<style scoped>\n",
       "    .dataframe tbody tr th:only-of-type {\n",
       "        vertical-align: middle;\n",
       "    }\n",
       "\n",
       "    .dataframe tbody tr th {\n",
       "        vertical-align: top;\n",
       "    }\n",
       "\n",
       "    .dataframe thead th {\n",
       "        text-align: right;\n",
       "    }\n",
       "</style>\n",
       "<table border=\"1\" class=\"dataframe\">\n",
       "  <thead>\n",
       "    <tr style=\"text-align: right;\">\n",
       "      <th></th>\n",
       "      <th>ID</th>\n",
       "      <th>Alignment</th>\n",
       "      <th>Gender</th>\n",
       "      <th>EyeColor</th>\n",
       "      <th>Race</th>\n",
       "      <th>HairColor</th>\n",
       "      <th>Publisher</th>\n",
       "      <th>SkinColor</th>\n",
       "      <th>Height</th>\n",
       "      <th>Weight</th>\n",
       "    </tr>\n",
       "    <tr>\n",
       "      <th>Name</th>\n",
       "      <th></th>\n",
       "      <th></th>\n",
       "      <th></th>\n",
       "      <th></th>\n",
       "      <th></th>\n",
       "      <th></th>\n",
       "      <th></th>\n",
       "      <th></th>\n",
       "      <th></th>\n",
       "      <th></th>\n",
       "    </tr>\n",
       "  </thead>\n",
       "  <tbody>\n",
       "    <tr>\n",
       "      <th>A-Bomb</th>\n",
       "      <td>0</td>\n",
       "      <td>good</td>\n",
       "      <td>Male</td>\n",
       "      <td>yellow</td>\n",
       "      <td>Human</td>\n",
       "      <td>No Hair</td>\n",
       "      <td>Marvel Comics</td>\n",
       "      <td>-</td>\n",
       "      <td>203.0</td>\n",
       "      <td>441.0</td>\n",
       "    </tr>\n",
       "    <tr>\n",
       "      <th>Abe Sapien</th>\n",
       "      <td>1</td>\n",
       "      <td>good</td>\n",
       "      <td>Male</td>\n",
       "      <td>blue</td>\n",
       "      <td>Icthyo Sapien</td>\n",
       "      <td>No Hair</td>\n",
       "      <td>Dark Horse Comics</td>\n",
       "      <td>blue</td>\n",
       "      <td>191.0</td>\n",
       "      <td>65.0</td>\n",
       "    </tr>\n",
       "    <tr>\n",
       "      <th>Abin Sur</th>\n",
       "      <td>2</td>\n",
       "      <td>good</td>\n",
       "      <td>Male</td>\n",
       "      <td>blue</td>\n",
       "      <td>Ungaran</td>\n",
       "      <td>No Hair</td>\n",
       "      <td>DC Comics</td>\n",
       "      <td>red</td>\n",
       "      <td>185.0</td>\n",
       "      <td>90.0</td>\n",
       "    </tr>\n",
       "    <tr>\n",
       "      <th>Abomination</th>\n",
       "      <td>3</td>\n",
       "      <td>bad</td>\n",
       "      <td>Male</td>\n",
       "      <td>green</td>\n",
       "      <td>Human / Radiation</td>\n",
       "      <td>No Hair</td>\n",
       "      <td>Marvel Comics</td>\n",
       "      <td>-</td>\n",
       "      <td>203.0</td>\n",
       "      <td>441.0</td>\n",
       "    </tr>\n",
       "    <tr>\n",
       "      <th>Abraxas</th>\n",
       "      <td>4</td>\n",
       "      <td>bad</td>\n",
       "      <td>Male</td>\n",
       "      <td>blue</td>\n",
       "      <td>Cosmic Entity</td>\n",
       "      <td>Black</td>\n",
       "      <td>Marvel Comics</td>\n",
       "      <td>-</td>\n",
       "      <td>-99.0</td>\n",
       "      <td>-99.0</td>\n",
       "    </tr>\n",
       "    <tr>\n",
       "      <th>...</th>\n",
       "      <td>...</td>\n",
       "      <td>...</td>\n",
       "      <td>...</td>\n",
       "      <td>...</td>\n",
       "      <td>...</td>\n",
       "      <td>...</td>\n",
       "      <td>...</td>\n",
       "      <td>...</td>\n",
       "      <td>...</td>\n",
       "      <td>...</td>\n",
       "    </tr>\n",
       "    <tr>\n",
       "      <th>Yellowjacket II</th>\n",
       "      <td>729</td>\n",
       "      <td>good</td>\n",
       "      <td>Female</td>\n",
       "      <td>blue</td>\n",
       "      <td>Human</td>\n",
       "      <td>Strawberry Blond</td>\n",
       "      <td>Marvel Comics</td>\n",
       "      <td>-</td>\n",
       "      <td>165.0</td>\n",
       "      <td>52.0</td>\n",
       "    </tr>\n",
       "    <tr>\n",
       "      <th>Ymir</th>\n",
       "      <td>730</td>\n",
       "      <td>good</td>\n",
       "      <td>Male</td>\n",
       "      <td>white</td>\n",
       "      <td>Frost Giant</td>\n",
       "      <td>No Hair</td>\n",
       "      <td>Marvel Comics</td>\n",
       "      <td>white</td>\n",
       "      <td>304.8</td>\n",
       "      <td>-99.0</td>\n",
       "    </tr>\n",
       "    <tr>\n",
       "      <th>Yoda</th>\n",
       "      <td>731</td>\n",
       "      <td>good</td>\n",
       "      <td>Male</td>\n",
       "      <td>brown</td>\n",
       "      <td>Yoda's species</td>\n",
       "      <td>White</td>\n",
       "      <td>George Lucas</td>\n",
       "      <td>green</td>\n",
       "      <td>66.0</td>\n",
       "      <td>17.0</td>\n",
       "    </tr>\n",
       "    <tr>\n",
       "      <th>Zatanna</th>\n",
       "      <td>732</td>\n",
       "      <td>good</td>\n",
       "      <td>Female</td>\n",
       "      <td>blue</td>\n",
       "      <td>Human</td>\n",
       "      <td>Black</td>\n",
       "      <td>DC Comics</td>\n",
       "      <td>-</td>\n",
       "      <td>170.0</td>\n",
       "      <td>57.0</td>\n",
       "    </tr>\n",
       "    <tr>\n",
       "      <th>Zoom</th>\n",
       "      <td>733</td>\n",
       "      <td>bad</td>\n",
       "      <td>Male</td>\n",
       "      <td>red</td>\n",
       "      <td>-</td>\n",
       "      <td>Brown</td>\n",
       "      <td>DC Comics</td>\n",
       "      <td>-</td>\n",
       "      <td>185.0</td>\n",
       "      <td>81.0</td>\n",
       "    </tr>\n",
       "  </tbody>\n",
       "</table>\n",
       "<p>734 rows × 10 columns</p>\n",
       "</div>"
      ],
      "text/plain": [
       "                  ID Alignment  Gender EyeColor               Race  \\\n",
       "Name                                                                 \n",
       "A-Bomb             0      good    Male   yellow              Human   \n",
       "Abe Sapien         1      good    Male     blue      Icthyo Sapien   \n",
       "Abin Sur           2      good    Male     blue            Ungaran   \n",
       "Abomination        3       bad    Male    green  Human / Radiation   \n",
       "Abraxas            4       bad    Male     blue      Cosmic Entity   \n",
       "...              ...       ...     ...      ...                ...   \n",
       "Yellowjacket II  729      good  Female     blue              Human   \n",
       "Ymir             730      good    Male    white        Frost Giant   \n",
       "Yoda             731      good    Male    brown     Yoda's species   \n",
       "Zatanna          732      good  Female     blue              Human   \n",
       "Zoom             733       bad    Male      red                  -   \n",
       "\n",
       "                        HairColor          Publisher SkinColor  Height  Weight  \n",
       "Name                                                                            \n",
       "A-Bomb                    No Hair      Marvel Comics         -   203.0   441.0  \n",
       "Abe Sapien                No Hair  Dark Horse Comics      blue   191.0    65.0  \n",
       "Abin Sur                  No Hair          DC Comics       red   185.0    90.0  \n",
       "Abomination               No Hair      Marvel Comics         -   203.0   441.0  \n",
       "Abraxas                     Black      Marvel Comics         -   -99.0   -99.0  \n",
       "...                           ...                ...       ...     ...     ...  \n",
       "Yellowjacket II  Strawberry Blond      Marvel Comics         -   165.0    52.0  \n",
       "Ymir                      No Hair      Marvel Comics     white   304.8   -99.0  \n",
       "Yoda                        White       George Lucas     green    66.0    17.0  \n",
       "Zatanna                     Black          DC Comics         -   170.0    57.0  \n",
       "Zoom                        Brown          DC Comics         -   185.0    81.0  \n",
       "\n",
       "[734 rows x 10 columns]"
      ]
     },
     "execution_count": 49,
     "metadata": {},
     "output_type": "execute_result"
    }
   ],
   "source": [
    "characters_stats = pd.read_csv(\"./raw_data/characters_stats.csv\")\n",
    "characters_stats.set_index(\"Name\")\n",
    "\n",
    "marvel_characters_info = pd.read_csv(\"./raw_data/marvel_characters_info.csv\")\n",
    "marvel_characters_info.set_index(\"Name\")"
   ]
  },
  {
   "cell_type": "markdown",
   "id": "6bf797c5-2de5-4eef-b1d4-459a0700c139",
   "metadata": {},
   "source": [
    "# Merging tables"
   ]
  },
  {
   "cell_type": "code",
   "execution_count": 50,
   "id": "7d8fd08b-b2f3-4fef-ad7c-4a2eed49d5ee",
   "metadata": {},
   "outputs": [],
   "source": [
    "characters_info = marvel_characters_info.merge(characters_stats, on=\"Name\", how=\"left\")"
   ]
  },
  {
   "cell_type": "markdown",
   "id": "c90e425b-3db7-4430-a83c-06d101cf6254",
   "metadata": {},
   "source": [
    "# Getting rid of useless data"
   ]
  },
  {
   "cell_type": "code",
   "execution_count": 51,
   "id": "17de4d8a-a487-45bd-ae1d-de3a199092ec",
   "metadata": {},
   "outputs": [],
   "source": [
    "characters_info.drop([\"Alignment_y\", \"ID\"], axis = 1, inplace = True)\n",
    "characters_info.rename(columns={\"Alignment_x\": \"IsBad\"}, inplace = True)\n",
    "\n",
    "characters_info = characters_info.drop_duplicates(subset=[\"Name\"])\n",
    "\n",
    "characters_info = characters_info.applymap(lambda value: value.lower() if isinstance(value, str) else value)\n",
    "characters_info = characters_info.replace(\"-\", np.nan)\n",
    "\n",
    "characters_info.set_index(\"Name\", inplace = True)"
   ]
  },
  {
   "cell_type": "markdown",
   "id": "9af70da5-92e3-463c-ba3a-21bc1cb858ae",
   "metadata": {},
   "source": [
    "# Leaving Marvel characters only"
   ]
  },
  {
   "cell_type": "code",
   "execution_count": 52,
   "id": "c1b2d2f8-db66-4568-aa68-242cbdc207e6",
   "metadata": {},
   "outputs": [],
   "source": [
    "characters_info = characters_info[ characters_info[\"Publisher\"] == \"marvel comics\" ]\n",
    "characters_info.drop(\"Publisher\", axis = 1, inplace = True)"
   ]
  },
  {
   "cell_type": "markdown",
   "id": "fc35e238-77ce-4dc1-87ca-4bd5286bbd47",
   "metadata": {
    "tags": []
   },
   "source": [
    "# Normalizing alignment column"
   ]
  },
  {
   "cell_type": "code",
   "execution_count": 53,
   "id": "e4120dcc-76d5-45d7-a3f3-496e91908093",
   "metadata": {},
   "outputs": [],
   "source": [
    "characters_info[\"IsBad\"] = characters_info[\"IsBad\"].replace([\"good\", \"bad\", \"-\", \"neutral\"], [0,1,0,0])\n",
    "characters_info[\"IsBad\"] = characters_info[\"IsBad\"].astype(\"bool\")"
   ]
  },
  {
   "cell_type": "markdown",
   "id": "84903b45-65cb-4bf8-8366-360a75856816",
   "metadata": {},
   "source": [
    "# Fixing negative weights and heights"
   ]
  },
  {
   "cell_type": "code",
   "execution_count": 54,
   "id": "4328ab38-75d1-4897-975e-db7115b7a823",
   "metadata": {},
   "outputs": [],
   "source": [
    "characters_info[\"Height\"] = characters_info[\"Height\"].replace(-99, np.nan)\n",
    "characters_info[\"Weight\"] = characters_info[\"Weight\"].replace(-99, np.nan)"
   ]
  },
  {
   "cell_type": "markdown",
   "id": "73d1e79d-04d5-41fa-ae72-06366824ef99",
   "metadata": {},
   "source": [
    "# Data visualisation"
   ]
  },
  {
   "cell_type": "code",
   "execution_count": 55,
   "id": "fe6fdd4f-bd7b-4c46-9442-1d100b9199f9",
   "metadata": {},
   "outputs": [
    {
     "data": {
      "image/png": "[encoded data removed]",
      "text/plain": [
       "<Figure size 864x504 with 1 Axes>"
      ]
     },
     "metadata": {
      "needs_background": "light"
     },
     "output_type": "display_data"
    }
   ],
   "source": [
    "good, bad = characters_info[\"IsBad\"].value_counts()\n",
    "\n",
    "plt.style.use(\"_mpl-gallery\")\n",
    "width = 50\n",
    "\n",
    "fig,ax=plt.subplots(figsize=(12,7),edgecolor=\"k\")\n",
    "p1=ax.bar(good, good, width, color=\"g\")\n",
    "p2=ax.bar(bad, bad, width, color=\"r\")\n",
    "ax.set_xticks([good, bad])\n",
    "ax.set_xticklabels((\"Good\", \"Bad\"))\n",
    "ax.set_title(\"Graph\")\n",
    "plt.xlabel(\"Alignment\")\n",
    "plt.ylabel(\"Counts\")\n",
    "\n",
    "for p in ax.patches:\n",
    "   ax.annotate(\"{:.1f}\".format(p.get_height()), (p.get_x()+20, p.get_height() + 5))\n",
    "\n",
    "plt.grid()\n",
    "plt.show()"
   ]
  },
  {
   "cell_type": "code",
   "execution_count": 56,
   "id": "437d2d30-3120-4fc7-b4d8-86c372ef56a9",
   "metadata": {},
   "outputs": [],
   "source": [
    "characters_info.to_csv(\"./marvel_characters.csv\")"
   ]
  }
 ],
 "metadata": {
  "kernelspec": {
   "display_name": "Python 3 (ipykernel)",
   "language": "python",
   "name": "python3"
  },
  "language_info": {
   "codemirror_mode": {
    "name": "ipython",
    "version": 3
   },
   "file_extension": ".py",
   "mimetype": "text/x-python",
   "name": "python",
   "nbconvert_exporter": "python",
   "pygments_lexer": "ipython3",
   "version": "3.10.4"
  }
 },
 "nbformat": 4,
 "nbformat_minor": 5
}
