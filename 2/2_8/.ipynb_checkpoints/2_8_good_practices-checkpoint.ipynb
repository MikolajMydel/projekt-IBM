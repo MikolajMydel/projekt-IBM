{
 "cells": [
  {
   "cell_type": "markdown",
   "metadata": {},
   "source": [
    "# 2.8. Wzorce pisania kodu\n",
    "\n",
    "Jupyter Notebook jest dość wygodnym narzędziem to interaktywnego pisania kodu na potrzeby Data Science. Nie jest niestety najlepszym wyborem jeśli chodzi o tworzenie kodu produkcyjnego. Przenoszenie logiki do modułów jest czymś co powinno być dość często rozważone, zwłaszcza jeśli pracujemy w większym zespole. Są to jednak dobre praktyki programowania w ogólności."
   ]
  },
  {
   "cell_type": "markdown",
   "metadata": {},
   "source": [
    "## Zarządzanie pamięcią\n",
    "\n",
    "Pandas nie jest biblioteką, która optymalnie zarządza pamięcią z automatu. To od użytkownika wymaga się znajomości swoich danych i korzystanie z funkcjonalności biblioteki w odpowiedni sposób. "
   ]
  },
  {
   "cell_type": "code",
   "execution_count": 1,
   "metadata": {},
   "outputs": [],
   "source": [
    "import pandas as pd"
   ]
  },
  {
   "cell_type": "code",
   "execution_count": 2,
   "metadata": {},
   "outputs": [
    {
     "name": "stdout",
     "output_type": "stream",
     "text": [
      "<class 'pandas.core.frame.DataFrame'>\n",
      "Int64Index: 10 entries, 0 to 9\n",
      "Data columns (total 3 columns):\n",
      " #   Column       Non-Null Count  Dtype         \n",
      "---  ------       --------------  -----         \n",
      " 0   customer_id  10 non-null     int64         \n",
      " 1   item_id      10 non-null     object        \n",
      " 2   datetime     10 non-null     datetime64[ns]\n",
      "dtypes: datetime64[ns](1), int64(1), object(1)\n",
      "memory usage: 320.0+ bytes\n"
     ]
    }
   ],
   "source": [
    "pd.read_csv(\"./data/2_6_orders.csv\", index_col=0, \n",
    "            parse_dates=[\"datetime\"]) \\\n",
    "    .info()"
   ]
  },
  {
   "cell_type": "code",
   "execution_count": 3,
   "metadata": {},
   "outputs": [
    {
     "name": "stdout",
     "output_type": "stream",
     "text": [
      "<class 'pandas.core.frame.DataFrame'>\n",
      "Int64Index: 10 entries, 0 to 9\n",
      "Data columns (total 3 columns):\n",
      " #   Column       Non-Null Count  Dtype         \n",
      "---  ------       --------------  -----         \n",
      " 0   customer_id  10 non-null     int16         \n",
      " 1   item_id      10 non-null     object        \n",
      " 2   datetime     10 non-null     datetime64[ns]\n",
      "dtypes: datetime64[ns](1), int16(1), object(1)\n",
      "memory usage: 260.0+ bytes\n"
     ]
    }
   ],
   "source": [
    "pd.read_csv(\"./data/2_6_orders.csv\", index_col=0, \n",
    "            parse_dates=[\"datetime\"]) \\\n",
    "    .astype({\"customer_id\": \"int16\"}) \\\n",
    "    .info()"
   ]
  },
  {
   "cell_type": "markdown",
   "metadata": {},
   "source": [
    "Pliki CSV są plikami tekstowymi i nie zawierają w sobie informacji o typie poszczególnych kolumn. Jeśli zamierzamy zapisywać pośrednie wyniki, to warto rozważyć wykorzystanie innego formatu oferowanego przez pandas. Osobiście preferuję format [parquet](https://parquet.apache.org/), który jest wspierany przez ekosystem Hadoop."
   ]
  },
  {
   "cell_type": "code",
   "execution_count": 5,
   "metadata": {},
   "outputs": [],
   "source": [
    "pd.read_csv(\"./data/2_6_orders.csv\", index_col=0, \n",
    "            parse_dates=[\"datetime\"], \n",
    "            dtype={\"customer_id\": \"int16\"}) \\\n",
    "    .to_parquet(\"./data/2_8_orders.parquet\")"
   ]
  },
  {
   "cell_type": "code",
   "execution_count": 6,
   "metadata": {},
   "outputs": [
    {
     "name": "stdout",
     "output_type": "stream",
     "text": [
      "<class 'pandas.core.frame.DataFrame'>\n",
      "Int64Index: 10 entries, 0 to 9\n",
      "Data columns (total 3 columns):\n",
      " #   Column       Non-Null Count  Dtype         \n",
      "---  ------       --------------  -----         \n",
      " 0   customer_id  10 non-null     int16         \n",
      " 1   item_id      10 non-null     object        \n",
      " 2   datetime     10 non-null     datetime64[ns]\n",
      "dtypes: datetime64[ns](1), int16(1), object(1)\n",
      "memory usage: 260.0+ bytes\n"
     ]
    }
   ],
   "source": [
    "pd.read_parquet(\"./data/2_8_orders.parquet\") \\\n",
    "    .info()"
   ]
  },
  {
   "cell_type": "markdown",
   "metadata": {},
   "source": [
    "## Metody wykonywane w miejscu\n",
    "\n",
    "Kilkakrotnie skorzystaliśmy z wywołania funkcji pandas w trybie \"inplace\". Nazwa sugeruje, iż może to być wywołanie szybsze i bardziej wydajne, gdyż nie wymaga zaalokowanie nowego miejsca w pamięci. Niestety nie mamy gwarancji, że tak się stanie. Jest to tylko pewnego rodzaju zabieg, aby uniknąć wielokrotnego nadpisywania tej samej zmiennej."
   ]
  },
  {
   "cell_type": "code",
   "execution_count": 8,
   "metadata": {},
   "outputs": [
    {
     "data": {
      "text/html": [
       "<div>\n",
       "<style scoped>\n",
       "    .dataframe tbody tr th:only-of-type {\n",
       "        vertical-align: middle;\n",
       "    }\n",
       "\n",
       "    .dataframe tbody tr th {\n",
       "        vertical-align: top;\n",
       "    }\n",
       "\n",
       "    .dataframe thead th {\n",
       "        text-align: right;\n",
       "    }\n",
       "</style>\n",
       "<table border=\"1\" class=\"dataframe\">\n",
       "  <thead>\n",
       "    <tr style=\"text-align: right;\">\n",
       "      <th></th>\n",
       "      <th>customer_id</th>\n",
       "      <th>item_id</th>\n",
       "      <th>datetime</th>\n",
       "    </tr>\n",
       "  </thead>\n",
       "  <tbody>\n",
       "    <tr>\n",
       "      <th>0</th>\n",
       "      <td>485</td>\n",
       "      <td>ITEM-1</td>\n",
       "      <td>2019-07-14 16:00:00</td>\n",
       "    </tr>\n",
       "    <tr>\n",
       "      <th>1</th>\n",
       "      <td>769</td>\n",
       "      <td>ITEM-1</td>\n",
       "      <td>2019-03-25 07:00:00</td>\n",
       "    </tr>\n",
       "    <tr>\n",
       "      <th>2</th>\n",
       "      <td>769</td>\n",
       "      <td>ITEM-3</td>\n",
       "      <td>2019-04-10 07:00:00</td>\n",
       "    </tr>\n",
       "    <tr>\n",
       "      <th>3</th>\n",
       "      <td>485</td>\n",
       "      <td>ITEM-1</td>\n",
       "      <td>2019-04-11 01:00:00</td>\n",
       "    </tr>\n",
       "    <tr>\n",
       "      <th>4</th>\n",
       "      <td>769</td>\n",
       "      <td>ITEM-2</td>\n",
       "      <td>2019-06-03 14:00:00</td>\n",
       "    </tr>\n",
       "    <tr>\n",
       "      <th>5</th>\n",
       "      <td>485</td>\n",
       "      <td>ITEM-3</td>\n",
       "      <td>2019-06-14 18:00:00</td>\n",
       "    </tr>\n",
       "    <tr>\n",
       "      <th>6</th>\n",
       "      <td>769</td>\n",
       "      <td>ITEM-3</td>\n",
       "      <td>2019-04-08 00:00:00</td>\n",
       "    </tr>\n",
       "    <tr>\n",
       "      <th>7</th>\n",
       "      <td>769</td>\n",
       "      <td>ITEM-2</td>\n",
       "      <td>2018-04-17 03:00:00</td>\n",
       "    </tr>\n",
       "    <tr>\n",
       "      <th>8</th>\n",
       "      <td>769</td>\n",
       "      <td>ITEM-2</td>\n",
       "      <td>2018-07-02 19:00:00</td>\n",
       "    </tr>\n",
       "    <tr>\n",
       "      <th>9</th>\n",
       "      <td>213</td>\n",
       "      <td>ITEM-1</td>\n",
       "      <td>2019-05-23 11:00:00</td>\n",
       "    </tr>\n",
       "  </tbody>\n",
       "</table>\n",
       "</div>"
      ],
      "text/plain": [
       "   customer_id item_id            datetime\n",
       "0          485  ITEM-1 2019-07-14 16:00:00\n",
       "1          769  ITEM-1 2019-03-25 07:00:00\n",
       "2          769  ITEM-3 2019-04-10 07:00:00\n",
       "3          485  ITEM-1 2019-04-11 01:00:00\n",
       "4          769  ITEM-2 2019-06-03 14:00:00\n",
       "5          485  ITEM-3 2019-06-14 18:00:00\n",
       "6          769  ITEM-3 2019-04-08 00:00:00\n",
       "7          769  ITEM-2 2018-04-17 03:00:00\n",
       "8          769  ITEM-2 2018-07-02 19:00:00\n",
       "9          213  ITEM-1 2019-05-23 11:00:00"
      ]
     },
     "execution_count": 8,
     "metadata": {},
     "output_type": "execute_result"
    }
   ],
   "source": [
    "orders_df = pd.read_parquet(\"./data/2_8_orders.parquet\")\n",
    "orders_df"
   ]
  },
  {
   "cell_type": "code",
   "execution_count": 11,
   "metadata": {},
   "outputs": [],
   "source": [
    "orders_df.rename(columns={\"datetime\": \"order_datetime\"}, \n",
    "                 inplace=True)"
   ]
  },
  {
   "cell_type": "code",
   "execution_count": 12,
   "metadata": {},
   "outputs": [
    {
     "data": {
      "text/html": [
       "<div>\n",
       "<style scoped>\n",
       "    .dataframe tbody tr th:only-of-type {\n",
       "        vertical-align: middle;\n",
       "    }\n",
       "\n",
       "    .dataframe tbody tr th {\n",
       "        vertical-align: top;\n",
       "    }\n",
       "\n",
       "    .dataframe thead th {\n",
       "        text-align: right;\n",
       "    }\n",
       "</style>\n",
       "<table border=\"1\" class=\"dataframe\">\n",
       "  <thead>\n",
       "    <tr style=\"text-align: right;\">\n",
       "      <th></th>\n",
       "      <th>customer_id</th>\n",
       "      <th>item_id</th>\n",
       "      <th>order_datetime</th>\n",
       "    </tr>\n",
       "  </thead>\n",
       "  <tbody>\n",
       "    <tr>\n",
       "      <th>0</th>\n",
       "      <td>485</td>\n",
       "      <td>ITEM-1</td>\n",
       "      <td>2019-07-14 16:00:00</td>\n",
       "    </tr>\n",
       "    <tr>\n",
       "      <th>1</th>\n",
       "      <td>769</td>\n",
       "      <td>ITEM-1</td>\n",
       "      <td>2019-03-25 07:00:00</td>\n",
       "    </tr>\n",
       "    <tr>\n",
       "      <th>2</th>\n",
       "      <td>769</td>\n",
       "      <td>ITEM-3</td>\n",
       "      <td>2019-04-10 07:00:00</td>\n",
       "    </tr>\n",
       "    <tr>\n",
       "      <th>3</th>\n",
       "      <td>485</td>\n",
       "      <td>ITEM-1</td>\n",
       "      <td>2019-04-11 01:00:00</td>\n",
       "    </tr>\n",
       "    <tr>\n",
       "      <th>4</th>\n",
       "      <td>769</td>\n",
       "      <td>ITEM-2</td>\n",
       "      <td>2019-06-03 14:00:00</td>\n",
       "    </tr>\n",
       "    <tr>\n",
       "      <th>5</th>\n",
       "      <td>485</td>\n",
       "      <td>ITEM-3</td>\n",
       "      <td>2019-06-14 18:00:00</td>\n",
       "    </tr>\n",
       "    <tr>\n",
       "      <th>6</th>\n",
       "      <td>769</td>\n",
       "      <td>ITEM-3</td>\n",
       "      <td>2019-04-08 00:00:00</td>\n",
       "    </tr>\n",
       "    <tr>\n",
       "      <th>7</th>\n",
       "      <td>769</td>\n",
       "      <td>ITEM-2</td>\n",
       "      <td>2018-04-17 03:00:00</td>\n",
       "    </tr>\n",
       "    <tr>\n",
       "      <th>8</th>\n",
       "      <td>769</td>\n",
       "      <td>ITEM-2</td>\n",
       "      <td>2018-07-02 19:00:00</td>\n",
       "    </tr>\n",
       "    <tr>\n",
       "      <th>9</th>\n",
       "      <td>213</td>\n",
       "      <td>ITEM-1</td>\n",
       "      <td>2019-05-23 11:00:00</td>\n",
       "    </tr>\n",
       "  </tbody>\n",
       "</table>\n",
       "</div>"
      ],
      "text/plain": [
       "   customer_id item_id      order_datetime\n",
       "0          485  ITEM-1 2019-07-14 16:00:00\n",
       "1          769  ITEM-1 2019-03-25 07:00:00\n",
       "2          769  ITEM-3 2019-04-10 07:00:00\n",
       "3          485  ITEM-1 2019-04-11 01:00:00\n",
       "4          769  ITEM-2 2019-06-03 14:00:00\n",
       "5          485  ITEM-3 2019-06-14 18:00:00\n",
       "6          769  ITEM-3 2019-04-08 00:00:00\n",
       "7          769  ITEM-2 2018-04-17 03:00:00\n",
       "8          769  ITEM-2 2018-07-02 19:00:00\n",
       "9          213  ITEM-1 2019-05-23 11:00:00"
      ]
     },
     "execution_count": 12,
     "metadata": {},
     "output_type": "execute_result"
    }
   ],
   "source": [
    "orders_df"
   ]
  },
  {
   "cell_type": "markdown",
   "metadata": {},
   "source": [
    "## *Method chaining*\n",
    "\n",
    "Styl programowania oparty o łańcuchowe wywoływanie kolejnych metod jest zaledwie konwencją, a nie dobrą praktyką. Warto korzystać z niego w pewnych kwestiach, aby uniknąć tworzenia kolejnych zmiennych, które mogą dodatkowo spowodować ciągłe zaalokowanie pamięci, pomimo iż nie będziemy korzystać już z ich wartości."
   ]
  },
  {
   "cell_type": "code",
   "execution_count": 24,
   "metadata": {},
   "outputs": [
    {
     "data": {
      "text/html": [
       "<div>\n",
       "<style scoped>\n",
       "    .dataframe tbody tr th:only-of-type {\n",
       "        vertical-align: middle;\n",
       "    }\n",
       "\n",
       "    .dataframe tbody tr th {\n",
       "        vertical-align: top;\n",
       "    }\n",
       "\n",
       "    .dataframe thead th {\n",
       "        text-align: right;\n",
       "    }\n",
       "</style>\n",
       "<table border=\"1\" class=\"dataframe\">\n",
       "  <thead>\n",
       "    <tr style=\"text-align: right;\">\n",
       "      <th></th>\n",
       "      <th>datetime</th>\n",
       "    </tr>\n",
       "  </thead>\n",
       "  <tbody>\n",
       "    <tr>\n",
       "      <th>min</th>\n",
       "      <td>2018-04-17 03:00:00</td>\n",
       "    </tr>\n",
       "    <tr>\n",
       "      <th>max</th>\n",
       "      <td>2019-07-14 16:00:00</td>\n",
       "    </tr>\n",
       "  </tbody>\n",
       "</table>\n",
       "</div>"
      ],
      "text/plain": [
       "               datetime\n",
       "min 2018-04-17 03:00:00\n",
       "max 2019-07-14 16:00:00"
      ]
     },
     "execution_count": 24,
     "metadata": {},
     "output_type": "execute_result"
    }
   ],
   "source": [
    "pd.read_parquet(\"./data/2_8_orders.parquet\") \\\n",
    "    .filter([\"datetime\"], axis=\"columns\") \\\n",
    "    .agg([\"min\", \"max\"])"
   ]
  }
 ],
 "metadata": {
  "kernelspec": {
   "display_name": "Python 3",
   "language": "python",
   "name": "python3"
  },
  "language_info": {
   "codemirror_mode": {
    "name": "ipython",
    "version": 3
   },
   "file_extension": ".py",
   "mimetype": "text/x-python",
   "name": "python",
   "nbconvert_exporter": "python",
   "pygments_lexer": "ipython3",
   "version": "3.7.7"
  }
 },
 "nbformat": 4,
 "nbformat_minor": 4
}
