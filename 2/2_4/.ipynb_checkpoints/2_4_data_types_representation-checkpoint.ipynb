{
 "cells": [
  {
   "cell_type": "markdown",
   "metadata": {},
   "source": [
    "# 2.4. Typy danych i sposoby ich reprezentacji\n",
    "\n",
    "Metody Machine Learning, które będziemy rozpatrywać w tym kursie oczekują, że dostarczymy im dane w formie ustrukturyzowanej, gdzie każda obserwacja będzie opisana za pomocą określonego zestawu cech, wspólnego dla wszystkich obserwacji. W idealnej sytuacji otrzymalibyśmy arkusz Excela, który zawierałby komplet danych, oraz drugi plik tłumaczący jaki dokładnie problem mamy rozwiązać. Z jakichś powodów to nigdy się nie wydarza."
   ]
  },
  {
   "cell_type": "markdown",
   "metadata": {},
   "source": [
    "## Dane numeryczne\n",
    "\n",
    "Ten rodzaj danych jest najprostszy, jako że jest to od razu format wejściowy do algorytmów Machine Learning. Czasem jednak zdarza się, iż dana cecha zdaje się zawierać liczby naturalne, jednak są to identyfikatory pewnego rodzaju klas, do których należą obiekty bądź też typy wyliczeniowe (enum w Pythonie). Stąd też ważna jest znajomość danych, z których korzystamy, tak aby w odpowiedni sposób przetworzyć zawarte w nich informacje."
   ]
  },
  {
   "cell_type": "markdown",
   "metadata": {},
   "source": [
    "Załóżmy, że otrzymaliśmy zestaw danych osobowych, w których kolor oczu został zakodowany za pomocą poniższego słownika:\n",
    "\n",
    "- **0** - niebieskie\n",
    "- **1** - brązowe\n",
    "- **2** - zielone\n",
    "- **3** - piwne\n",
    "\n",
    "Możliwe, że otrzymaliśmy ten słownik wraz z zestawem danych. Problemem jest jednak to, że pomiędzy wszystkimi dopuszczalnymi wartościami nie istnieje żaden sensowny porządek. Innymi słowy, fakt iż oczy zielone mają wyższą wartość , która ją reprezentuje, nie wnosi żadnej informacji. Algorytmy mogą jednak starać się wnioskować z takiego zapisu, iż oczy niebieskie są bliższe brązowym niż piwnym.\n",
    "\n",
    "Tego typu infomacje muszą być potraktowane jak kategorie!"
   ]
  },
  {
   "cell_type": "markdown",
   "metadata": {},
   "source": [
    "Podobnie sytuacja ma się w momencie, gdy liczba unikalnych wartości danej cechy jest bardzo duża, a my posiadamy pewną wiedzę domenową i wiemy że wartości nie wnoszą w sobie więcej sensu niż przynależność do pewnego przedziału. Istnieją nawet przypadki, gdy jako ludzie posługujemy się tego rodzaju uproszczeniami. Pomijając rodziców noworodków, nikt raczej nie określa swojego wieku używając jednostek mniejszych niż lata, prawda?"
   ]
  },
  {
   "cell_type": "markdown",
   "metadata": {},
   "source": [
    "## Kategorie\n",
    "\n",
    "Dość często będziemy spotykać się z cechami, które przyjmują wartości z pewnego ograniczonego zbioru. Czasem będą to wartości logiczne: prawda/fałsz, ale na pewno napotkamy również cechy, w których liczba możliwych wartości będzie dużo wyższa, choć ciągle skończona.\n",
    "\n",
    "Załóżmy, że posiadamy listę pewnych połączeń pociągów w Polsce."
   ]
  },
  {
   "cell_type": "code",
   "execution_count": 1,
   "metadata": {},
   "outputs": [],
   "source": [
    "import pandas as pd"
   ]
  },
  {
   "cell_type": "code",
   "execution_count": 2,
   "metadata": {},
   "outputs": [],
   "source": [
    "cities = [\"Kraków\", \"Warszawa\", \"Poznań\", \"Wrocław\", \"Gdańsk\", \"Szczecin\"]"
   ]
  },
  {
   "cell_type": "code",
   "execution_count": 3,
   "metadata": {},
   "outputs": [
    {
     "data": {
      "text/html": [
       "<div>\n",
       "<style scoped>\n",
       "    .dataframe tbody tr th:only-of-type {\n",
       "        vertical-align: middle;\n",
       "    }\n",
       "\n",
       "    .dataframe tbody tr th {\n",
       "        vertical-align: top;\n",
       "    }\n",
       "\n",
       "    .dataframe thead th {\n",
       "        text-align: right;\n",
       "    }\n",
       "</style>\n",
       "<table border=\"1\" class=\"dataframe\">\n",
       "  <thead>\n",
       "    <tr style=\"text-align: right;\">\n",
       "      <th></th>\n",
       "      <th>from</th>\n",
       "      <th>to</th>\n",
       "    </tr>\n",
       "  </thead>\n",
       "  <tbody>\n",
       "    <tr>\n",
       "      <th>0</th>\n",
       "      <td>Kraków</td>\n",
       "      <td>Szczecin</td>\n",
       "    </tr>\n",
       "    <tr>\n",
       "      <th>1</th>\n",
       "      <td>Warszawa</td>\n",
       "      <td>Gdańsk</td>\n",
       "    </tr>\n",
       "    <tr>\n",
       "      <th>2</th>\n",
       "      <td>Poznań</td>\n",
       "      <td>Wrocław</td>\n",
       "    </tr>\n",
       "    <tr>\n",
       "      <th>3</th>\n",
       "      <td>Wrocław</td>\n",
       "      <td>Poznań</td>\n",
       "    </tr>\n",
       "    <tr>\n",
       "      <th>4</th>\n",
       "      <td>Gdańsk</td>\n",
       "      <td>Warszawa</td>\n",
       "    </tr>\n",
       "    <tr>\n",
       "      <th>5</th>\n",
       "      <td>Szczecin</td>\n",
       "      <td>Kraków</td>\n",
       "    </tr>\n",
       "  </tbody>\n",
       "</table>\n",
       "</div>"
      ],
      "text/plain": [
       "       from        to\n",
       "0    Kraków  Szczecin\n",
       "1  Warszawa    Gdańsk\n",
       "2    Poznań   Wrocław\n",
       "3   Wrocław    Poznań\n",
       "4    Gdańsk  Warszawa\n",
       "5  Szczecin    Kraków"
      ]
     },
     "execution_count": 3,
     "metadata": {},
     "output_type": "execute_result"
    }
   ],
   "source": [
    "connections_df = pd.DataFrame({\n",
    "    \"from\": cities,\n",
    "    \"to\": cities[::-1]\n",
    "})\n",
    "connections_df"
   ]
  },
  {
   "cell_type": "markdown",
   "metadata": {},
   "source": [
    "Nie jesteśmy w stanie bezpośrednio skorzystać z tych informacji w algorytmie ML. Musimy odnaleźć jakiś sposób, aby zakodować informacje o kategoriach za pomocą liczb."
   ]
  },
  {
   "cell_type": "markdown",
   "metadata": {},
   "source": [
    "### One-hot encoding\n",
    "\n",
    "Jedną z najpowszechniej używanych metod do zakodowania danych o kategoriach w postaci numerycznej, jest tzw. *one-hot encoding*. Polega on na przypisaniu każdej z dopuszczalnych wartości danej kategorii, własnej pozycji w wektorze. W momencie wystąpienia danej wartości, oznaczamy ten fakt ustawiając tę pozycję na 1, a pozostałe wypełniając zerami."
   ]
  },
  {
   "cell_type": "code",
   "execution_count": 4,
   "metadata": {},
   "outputs": [
    {
     "data": {
      "text/html": [
       "<div>\n",
       "<style scoped>\n",
       "    .dataframe tbody tr th:only-of-type {\n",
       "        vertical-align: middle;\n",
       "    }\n",
       "\n",
       "    .dataframe tbody tr th {\n",
       "        vertical-align: top;\n",
       "    }\n",
       "\n",
       "    .dataframe thead th {\n",
       "        text-align: right;\n",
       "    }\n",
       "</style>\n",
       "<table border=\"1\" class=\"dataframe\">\n",
       "  <thead>\n",
       "    <tr style=\"text-align: right;\">\n",
       "      <th></th>\n",
       "      <th>from_Gdańsk</th>\n",
       "      <th>from_Kraków</th>\n",
       "      <th>from_Poznań</th>\n",
       "      <th>from_Szczecin</th>\n",
       "      <th>from_Warszawa</th>\n",
       "      <th>from_Wrocław</th>\n",
       "      <th>to_Gdańsk</th>\n",
       "      <th>to_Kraków</th>\n",
       "      <th>to_Poznań</th>\n",
       "      <th>to_Szczecin</th>\n",
       "      <th>to_Warszawa</th>\n",
       "      <th>to_Wrocław</th>\n",
       "    </tr>\n",
       "  </thead>\n",
       "  <tbody>\n",
       "    <tr>\n",
       "      <th>0</th>\n",
       "      <td>0</td>\n",
       "      <td>1</td>\n",
       "      <td>0</td>\n",
       "      <td>0</td>\n",
       "      <td>0</td>\n",
       "      <td>0</td>\n",
       "      <td>0</td>\n",
       "      <td>0</td>\n",
       "      <td>0</td>\n",
       "      <td>1</td>\n",
       "      <td>0</td>\n",
       "      <td>0</td>\n",
       "    </tr>\n",
       "    <tr>\n",
       "      <th>1</th>\n",
       "      <td>0</td>\n",
       "      <td>0</td>\n",
       "      <td>0</td>\n",
       "      <td>0</td>\n",
       "      <td>1</td>\n",
       "      <td>0</td>\n",
       "      <td>1</td>\n",
       "      <td>0</td>\n",
       "      <td>0</td>\n",
       "      <td>0</td>\n",
       "      <td>0</td>\n",
       "      <td>0</td>\n",
       "    </tr>\n",
       "    <tr>\n",
       "      <th>2</th>\n",
       "      <td>0</td>\n",
       "      <td>0</td>\n",
       "      <td>1</td>\n",
       "      <td>0</td>\n",
       "      <td>0</td>\n",
       "      <td>0</td>\n",
       "      <td>0</td>\n",
       "      <td>0</td>\n",
       "      <td>0</td>\n",
       "      <td>0</td>\n",
       "      <td>0</td>\n",
       "      <td>1</td>\n",
       "    </tr>\n",
       "    <tr>\n",
       "      <th>3</th>\n",
       "      <td>0</td>\n",
       "      <td>0</td>\n",
       "      <td>0</td>\n",
       "      <td>0</td>\n",
       "      <td>0</td>\n",
       "      <td>1</td>\n",
       "      <td>0</td>\n",
       "      <td>0</td>\n",
       "      <td>1</td>\n",
       "      <td>0</td>\n",
       "      <td>0</td>\n",
       "      <td>0</td>\n",
       "    </tr>\n",
       "    <tr>\n",
       "      <th>4</th>\n",
       "      <td>1</td>\n",
       "      <td>0</td>\n",
       "      <td>0</td>\n",
       "      <td>0</td>\n",
       "      <td>0</td>\n",
       "      <td>0</td>\n",
       "      <td>0</td>\n",
       "      <td>0</td>\n",
       "      <td>0</td>\n",
       "      <td>0</td>\n",
       "      <td>1</td>\n",
       "      <td>0</td>\n",
       "    </tr>\n",
       "    <tr>\n",
       "      <th>5</th>\n",
       "      <td>0</td>\n",
       "      <td>0</td>\n",
       "      <td>0</td>\n",
       "      <td>1</td>\n",
       "      <td>0</td>\n",
       "      <td>0</td>\n",
       "      <td>0</td>\n",
       "      <td>1</td>\n",
       "      <td>0</td>\n",
       "      <td>0</td>\n",
       "      <td>0</td>\n",
       "      <td>0</td>\n",
       "    </tr>\n",
       "  </tbody>\n",
       "</table>\n",
       "</div>"
      ],
      "text/plain": [
       "   from_Gdańsk  from_Kraków  from_Poznań  from_Szczecin  from_Warszawa  \\\n",
       "0            0            1            0              0              0   \n",
       "1            0            0            0              0              1   \n",
       "2            0            0            1              0              0   \n",
       "3            0            0            0              0              0   \n",
       "4            1            0            0              0              0   \n",
       "5            0            0            0              1              0   \n",
       "\n",
       "   from_Wrocław  to_Gdańsk  to_Kraków  to_Poznań  to_Szczecin  to_Warszawa  \\\n",
       "0             0          0          0          0            1            0   \n",
       "1             0          1          0          0            0            0   \n",
       "2             0          0          0          0            0            0   \n",
       "3             1          0          0          1            0            0   \n",
       "4             0          0          0          0            0            1   \n",
       "5             0          0          1          0            0            0   \n",
       "\n",
       "   to_Wrocław  \n",
       "0           0  \n",
       "1           0  \n",
       "2           1  \n",
       "3           0  \n",
       "4           0  \n",
       "5           0  "
      ]
     },
     "execution_count": 4,
     "metadata": {},
     "output_type": "execute_result"
    }
   ],
   "source": [
    "pd.get_dummies(connections_df)"
   ]
  },
  {
   "cell_type": "markdown",
   "metadata": {},
   "source": [
    "## Dane tekstowe\n",
    "\n",
    "Jednym z częstych typów danych jakie otrzymujemy są dane tekstowe, o nieustalonej strukturze. Przetwarzaniem języka naturalnego zajmuje się osobna gałąź Data Science i istnieje wiele metod, które pozwalają na zakodowanie tekstu w postaci wektorowej. Nie będziemy się jednak skupiać na tego rodzaju metodach, ponieważ jest to temat na osobny kurs. Zamiast tego pokażemy kilka prostych strategii, które mogą nam pozwolić mimo wszystko wyodrębnić kilka użytecznych informacji."
   ]
  },
  {
   "cell_type": "markdown",
   "metadata": {},
   "source": [
    "### Wyodrębnianie informacji z użyciem wyrażeń regularnych\n",
    "\n",
    "Bardzo często w komercyjnych projektach zdarza się pracować z danymi teleadresowymi. Załóżmy, że nasz docelowy model ma rozpoznawać firmy, które mają problem z opłacaniem faktur. Informacja o ich położeniu może być dość istotna, a kod pocztowy może nam pomóc, aby z grubsza oszacować gdzie mają one swoje siedziby."
   ]
  },
  {
   "cell_type": "code",
   "execution_count": 5,
   "metadata": {},
   "outputs": [
    {
     "data": {
      "text/html": [
       "<div>\n",
       "<style scoped>\n",
       "    .dataframe tbody tr th:only-of-type {\n",
       "        vertical-align: middle;\n",
       "    }\n",
       "\n",
       "    .dataframe tbody tr th {\n",
       "        vertical-align: top;\n",
       "    }\n",
       "\n",
       "    .dataframe thead th {\n",
       "        text-align: right;\n",
       "    }\n",
       "</style>\n",
       "<table border=\"1\" class=\"dataframe\">\n",
       "  <thead>\n",
       "    <tr style=\"text-align: right;\">\n",
       "      <th></th>\n",
       "      <th>company_name</th>\n",
       "      <th>company_address</th>\n",
       "    </tr>\n",
       "  </thead>\n",
       "  <tbody>\n",
       "    <tr>\n",
       "      <th>0</th>\n",
       "      <td>Digitdeck</td>\n",
       "      <td>Al. Marszałka Józefa Piłsudskiego 31 90-306 Łódź</td>\n",
       "    </tr>\n",
       "    <tr>\n",
       "      <th>1</th>\n",
       "      <td>Scout Course</td>\n",
       "      <td>ul. Białobrzeska 50 02-371 Warszawa</td>\n",
       "    </tr>\n",
       "    <tr>\n",
       "      <th>2</th>\n",
       "      <td>Discover Clothes</td>\n",
       "      <td>ul. Bytomska 65 41-605 Świętochłowice</td>\n",
       "    </tr>\n",
       "  </tbody>\n",
       "</table>\n",
       "</div>"
      ],
      "text/plain": [
       "       company_name                                   company_address\n",
       "0         Digitdeck  Al. Marszałka Józefa Piłsudskiego 31 90-306 Łódź\n",
       "1      Scout Course               ul. Białobrzeska 50 02-371 Warszawa\n",
       "2  Discover Clothes            ul. Bytomska 65 41-605 Świętochłowice "
      ]
     },
     "execution_count": 5,
     "metadata": {},
     "output_type": "execute_result"
    }
   ],
   "source": [
    "companies_df = pd.read_csv(\"./data/2_4_companies.csv\")\n",
    "companies_df"
   ]
  },
  {
   "cell_type": "markdown",
   "metadata": {},
   "source": [
    "Przy okazji, generator https://www.fakenamegenerator.com/gen-random-pl-pl.php pozwala na stworzenie fałszywych danych osobowych i z niego skorzystaliśmy, aby stworzyć ten zbiór."
   ]
  },
  {
   "cell_type": "code",
   "execution_count": 6,
   "metadata": {},
   "outputs": [
    {
     "data": {
      "text/html": [
       "<div>\n",
       "<style scoped>\n",
       "    .dataframe tbody tr th:only-of-type {\n",
       "        vertical-align: middle;\n",
       "    }\n",
       "\n",
       "    .dataframe tbody tr th {\n",
       "        vertical-align: top;\n",
       "    }\n",
       "\n",
       "    .dataframe thead th {\n",
       "        text-align: right;\n",
       "    }\n",
       "</style>\n",
       "<table border=\"1\" class=\"dataframe\">\n",
       "  <thead>\n",
       "    <tr style=\"text-align: right;\">\n",
       "      <th></th>\n",
       "      <th>0</th>\n",
       "    </tr>\n",
       "  </thead>\n",
       "  <tbody>\n",
       "    <tr>\n",
       "      <th>0</th>\n",
       "      <td>90-306</td>\n",
       "    </tr>\n",
       "    <tr>\n",
       "      <th>1</th>\n",
       "      <td>02-371</td>\n",
       "    </tr>\n",
       "    <tr>\n",
       "      <th>2</th>\n",
       "      <td>41-605</td>\n",
       "    </tr>\n",
       "  </tbody>\n",
       "</table>\n",
       "</div>"
      ],
      "text/plain": [
       "        0\n",
       "0  90-306\n",
       "1  02-371\n",
       "2  41-605"
      ]
     },
     "execution_count": 6,
     "metadata": {},
     "output_type": "execute_result"
    }
   ],
   "source": [
    "companies_df[\"company_address\"] \\\n",
    "    .str.extract(r\"([0-9]{2}\\-[0-9]{3})\")"
   ]
  },
  {
   "cell_type": "markdown",
   "metadata": {},
   "source": [
    "To oczywiście nadal nie rozwiązuje problemu zakodowania informacji na potrzeby Machine Learning, ale możemy skorzystać chociażby z one-hot encoding w kolejnym kroku. Tutaj przydałaby się jednak wiedza domenowa i chociażby wyodrębnienie tylko pierwszych cyfr kodu pocztowego oraz dalsze pogrupowanie tych prefiksów na podstawie podobnego położenia geograficznego. To jednak wymaga ręcznego wysiłku lub zebrania odpowiedniego zbioru pomocniczego."
   ]
  },
  {
   "cell_type": "markdown",
   "metadata": {},
   "source": [
    "### Metoda oparta na słowniku\n",
    "\n",
    "Dość prostą metodą na wyodrębnienie informacji z danych tekstowych jest wykorzystanie zewnętrznego słownika i sprawdzenie obecności danego słowa bądź ciągu znaków w tekście."
   ]
  },
  {
   "cell_type": "markdown",
   "metadata": {},
   "source": [
    "Trzymajmy się przykładu bazy danych firm. Zamiast kodu pocztowego, moglibyśmy chcieć wyodrębnić nazwę miejscowości. Bez posiadania odpowiedniej listy wszystkich miejscowości w Polsce, będzie to niemożliwe. Tego typu informacje są jednak dostępne i można za ich pomocą łatwo wzbogacić nasze systemy."
   ]
  },
  {
   "cell_type": "code",
   "execution_count": 7,
   "metadata": {},
   "outputs": [
    {
     "data": {
      "text/html": [
       "<div>\n",
       "<style scoped>\n",
       "    .dataframe tbody tr th:only-of-type {\n",
       "        vertical-align: middle;\n",
       "    }\n",
       "\n",
       "    .dataframe tbody tr th {\n",
       "        vertical-align: top;\n",
       "    }\n",
       "\n",
       "    .dataframe thead th {\n",
       "        text-align: right;\n",
       "    }\n",
       "</style>\n",
       "<table border=\"1\" class=\"dataframe\">\n",
       "  <thead>\n",
       "    <tr style=\"text-align: right;\">\n",
       "      <th></th>\n",
       "      <th>city</th>\n",
       "    </tr>\n",
       "  </thead>\n",
       "  <tbody>\n",
       "    <tr>\n",
       "      <th>0</th>\n",
       "      <td>Lublin</td>\n",
       "    </tr>\n",
       "    <tr>\n",
       "      <th>1</th>\n",
       "      <td>Warszawa</td>\n",
       "    </tr>\n",
       "    <tr>\n",
       "      <th>2</th>\n",
       "      <td>Łódź</td>\n",
       "    </tr>\n",
       "    <tr>\n",
       "      <th>3</th>\n",
       "      <td>Kraków</td>\n",
       "    </tr>\n",
       "    <tr>\n",
       "      <th>4</th>\n",
       "      <td>Wrocław</td>\n",
       "    </tr>\n",
       "    <tr>\n",
       "      <th>5</th>\n",
       "      <td>Świętochłowice</td>\n",
       "    </tr>\n",
       "    <tr>\n",
       "      <th>6</th>\n",
       "      <td>Poznań</td>\n",
       "    </tr>\n",
       "    <tr>\n",
       "      <th>7</th>\n",
       "      <td>Szczecin</td>\n",
       "    </tr>\n",
       "    <tr>\n",
       "      <th>8</th>\n",
       "      <td>Gdańsk</td>\n",
       "    </tr>\n",
       "    <tr>\n",
       "      <th>9</th>\n",
       "      <td>Rzeszów</td>\n",
       "    </tr>\n",
       "  </tbody>\n",
       "</table>\n",
       "</div>"
      ],
      "text/plain": [
       "             city\n",
       "0          Lublin\n",
       "1        Warszawa\n",
       "2            Łódź\n",
       "3          Kraków\n",
       "4         Wrocław\n",
       "5  Świętochłowice\n",
       "6          Poznań\n",
       "7        Szczecin\n",
       "8          Gdańsk\n",
       "9         Rzeszów"
      ]
     },
     "execution_count": 7,
     "metadata": {},
     "output_type": "execute_result"
    }
   ],
   "source": [
    "cities_df = pd.read_csv(\"./data/2_4_cities.csv\")\n",
    "cities_df"
   ]
  },
  {
   "cell_type": "code",
   "execution_count": 8,
   "metadata": {},
   "outputs": [],
   "source": [
    "def find_matching_city(value):\n",
    "    value_lc = value.lower()\n",
    "    for city_name in cities_df[\"city\"]:\n",
    "        if city_name.lower() in value_lc:\n",
    "            return city_name\n",
    "    return None"
   ]
  },
  {
   "cell_type": "code",
   "execution_count": 9,
   "metadata": {},
   "outputs": [
    {
     "data": {
      "text/plain": [
       "0              Łódź\n",
       "1          Warszawa\n",
       "2    Świętochłowice\n",
       "Name: company_address, dtype: object"
      ]
     },
     "execution_count": 9,
     "metadata": {},
     "output_type": "execute_result"
    }
   ],
   "source": [
    "companies_df[\"company_address\"].map(find_matching_city)"
   ]
  },
  {
   "cell_type": "markdown",
   "metadata": {},
   "source": [
    "## Daty i znaczniki czasu\n",
    "\n",
    "Pewne jednostki czasu, takie jak miesiące, dni tygodnia czy godziny mają swój porządek, który jako ludzie rozumiemy dość naturalnie. Po 23:59 następuje 00:00 dnia następnego, a gdy skończy się grudzień mamy znowu styczeń. Gdybyśmy jednak zapisali te informacje jako osobne cechy w ramce danych, to nasz algorytm nie będzie prawodopodobnie tak łatwo w stanie wykryć tej zależności. Pewne rzeczy następują cyklicznie, jednak cykl to nie jest coś z czym nasze algorytmy radzą sobie zbyt dobrze."
   ]
  },
  {
   "cell_type": "code",
   "execution_count": 10,
   "metadata": {},
   "outputs": [
    {
     "data": {
      "text/html": [
       "<div>\n",
       "<style scoped>\n",
       "    .dataframe tbody tr th:only-of-type {\n",
       "        vertical-align: middle;\n",
       "    }\n",
       "\n",
       "    .dataframe tbody tr th {\n",
       "        vertical-align: top;\n",
       "    }\n",
       "\n",
       "    .dataframe thead th {\n",
       "        text-align: right;\n",
       "    }\n",
       "</style>\n",
       "<table border=\"1\" class=\"dataframe\">\n",
       "  <thead>\n",
       "    <tr style=\"text-align: right;\">\n",
       "      <th></th>\n",
       "      <th>year</th>\n",
       "      <th>month</th>\n",
       "      <th>day</th>\n",
       "      <th>day_of_week</th>\n",
       "    </tr>\n",
       "  </thead>\n",
       "  <tbody>\n",
       "    <tr>\n",
       "      <th>0</th>\n",
       "      <td>2020</td>\n",
       "      <td>3</td>\n",
       "      <td>29</td>\n",
       "      <td>6</td>\n",
       "    </tr>\n",
       "    <tr>\n",
       "      <th>1</th>\n",
       "      <td>2020</td>\n",
       "      <td>3</td>\n",
       "      <td>30</td>\n",
       "      <td>0</td>\n",
       "    </tr>\n",
       "    <tr>\n",
       "      <th>2</th>\n",
       "      <td>2020</td>\n",
       "      <td>3</td>\n",
       "      <td>31</td>\n",
       "      <td>1</td>\n",
       "    </tr>\n",
       "    <tr>\n",
       "      <th>3</th>\n",
       "      <td>2020</td>\n",
       "      <td>4</td>\n",
       "      <td>1</td>\n",
       "      <td>2</td>\n",
       "    </tr>\n",
       "    <tr>\n",
       "      <th>4</th>\n",
       "      <td>2020</td>\n",
       "      <td>4</td>\n",
       "      <td>2</td>\n",
       "      <td>3</td>\n",
       "    </tr>\n",
       "    <tr>\n",
       "      <th>5</th>\n",
       "      <td>2020</td>\n",
       "      <td>4</td>\n",
       "      <td>3</td>\n",
       "      <td>4</td>\n",
       "    </tr>\n",
       "    <tr>\n",
       "      <th>6</th>\n",
       "      <td>2020</td>\n",
       "      <td>4</td>\n",
       "      <td>4</td>\n",
       "      <td>5</td>\n",
       "    </tr>\n",
       "  </tbody>\n",
       "</table>\n",
       "</div>"
      ],
      "text/plain": [
       "   year  month  day  day_of_week\n",
       "0  2020      3   29            6\n",
       "1  2020      3   30            0\n",
       "2  2020      3   31            1\n",
       "3  2020      4    1            2\n",
       "4  2020      4    2            3\n",
       "5  2020      4    3            4\n",
       "6  2020      4    4            5"
      ]
     },
     "execution_count": 10,
     "metadata": {},
     "output_type": "execute_result"
    }
   ],
   "source": [
    "date_range = pd.date_range(\"2020-03-29\", periods=60, freq=\"D\")\n",
    "\n",
    "days_df = pd.DataFrame({\n",
    "    \"year\": date_range.year,\n",
    "    \"month\": date_range.month,\n",
    "    \"day\": date_range.day,\n",
    "    \"day_of_week\": date_range.dayofweek\n",
    "})\n",
    "days_df.head(n=7)"
   ]
  },
  {
   "cell_type": "markdown",
   "metadata": {},
   "source": [
    "### Zapis dat jako znacznika czasu\n",
    "\n",
    "Jest to najbardziej podstawowa strategia. Możemy zrezygnować z dat, które są łatwo interpretowalne przez człowieka i przejść do znaczników czasu, które zazwyczaj kodują daty jako odległość od ustalonego momentu w przeszłości. Najczęściej używanym znacznikiem czasu jest Unixowy znacznik czasu, dla którego początek epoki to 1. stycznia 1970 r. "
   ]
  },
  {
   "cell_type": "code",
   "execution_count": 11,
   "metadata": {},
   "outputs": [],
   "source": [
    "import numpy as np"
   ]
  },
  {
   "cell_type": "code",
   "execution_count": 12,
   "metadata": {},
   "outputs": [
    {
     "data": {
      "text/plain": [
       "array([1585440000000000000, 1585526400000000000, 1585612800000000000,\n",
       "       1585699200000000000, 1585785600000000000, 1585872000000000000,\n",
       "       1585958400000000000, 1586044800000000000, 1586131200000000000,\n",
       "       1586217600000000000, 1586304000000000000, 1586390400000000000,\n",
       "       1586476800000000000, 1586563200000000000, 1586649600000000000,\n",
       "       1586736000000000000, 1586822400000000000, 1586908800000000000,\n",
       "       1586995200000000000, 1587081600000000000, 1587168000000000000,\n",
       "       1587254400000000000, 1587340800000000000, 1587427200000000000,\n",
       "       1587513600000000000, 1587600000000000000, 1587686400000000000,\n",
       "       1587772800000000000, 1587859200000000000, 1587945600000000000,\n",
       "       1588032000000000000, 1588118400000000000, 1588204800000000000,\n",
       "       1588291200000000000, 1588377600000000000, 1588464000000000000,\n",
       "       1588550400000000000, 1588636800000000000, 1588723200000000000,\n",
       "       1588809600000000000, 1588896000000000000, 1588982400000000000,\n",
       "       1589068800000000000, 1589155200000000000, 1589241600000000000,\n",
       "       1589328000000000000, 1589414400000000000, 1589500800000000000,\n",
       "       1589587200000000000, 1589673600000000000, 1589760000000000000,\n",
       "       1589846400000000000, 1589932800000000000, 1590019200000000000,\n",
       "       1590105600000000000, 1590192000000000000, 1590278400000000000,\n",
       "       1590364800000000000, 1590451200000000000, 1590537600000000000],\n",
       "      dtype=int64)"
      ]
     },
     "execution_count": 12,
     "metadata": {},
     "output_type": "execute_result"
    }
   ],
   "source": [
    "date_range.view(np.int64)"
   ]
  },
  {
   "cell_type": "markdown",
   "metadata": {},
   "source": [
    "Tracimy jednak w ten sposób całkiem sporo użytecznych zalezności cyklicznych."
   ]
  },
  {
   "cell_type": "markdown",
   "metadata": {},
   "source": [
    "### Zapis dat za pomocą funkcji okresowych\n",
    "\n",
    "Z pewnością każdy z nas zdaje sobie sprawę, że godzina 22. jest bliższa drugiej w nocy niż 14. Dla komputera nie jest to jednak aż tak oczywiste i musimy znaleźć inny sposób zapisania takich faktów. Z pomocą przychodzą nam tutaj funkcje okresowe takie jak sinus i cosinus. Konwersja niektórych danych do postaci cyklicznej może znacząco zwiększyć ich użyteczność. "
   ]
  },
  {
   "cell_type": "code",
   "execution_count": 13,
   "metadata": {},
   "outputs": [],
   "source": [
    "days_in_week = 7"
   ]
  },
  {
   "cell_type": "code",
   "execution_count": 14,
   "metadata": {},
   "outputs": [
    {
     "data": {
      "text/html": [
       "<div>\n",
       "<style scoped>\n",
       "    .dataframe tbody tr th:only-of-type {\n",
       "        vertical-align: middle;\n",
       "    }\n",
       "\n",
       "    .dataframe tbody tr th {\n",
       "        vertical-align: top;\n",
       "    }\n",
       "\n",
       "    .dataframe thead th {\n",
       "        text-align: right;\n",
       "    }\n",
       "</style>\n",
       "<table border=\"1\" class=\"dataframe\">\n",
       "  <thead>\n",
       "    <tr style=\"text-align: right;\">\n",
       "      <th></th>\n",
       "      <th>year</th>\n",
       "      <th>month</th>\n",
       "      <th>day</th>\n",
       "      <th>day_of_week</th>\n",
       "      <th>day_of_week_sin</th>\n",
       "      <th>day_of_week_cos</th>\n",
       "    </tr>\n",
       "  </thead>\n",
       "  <tbody>\n",
       "    <tr>\n",
       "      <th>0</th>\n",
       "      <td>2020</td>\n",
       "      <td>3</td>\n",
       "      <td>29</td>\n",
       "      <td>6</td>\n",
       "      <td>-0.781831</td>\n",
       "      <td>0.623490</td>\n",
       "    </tr>\n",
       "    <tr>\n",
       "      <th>1</th>\n",
       "      <td>2020</td>\n",
       "      <td>3</td>\n",
       "      <td>30</td>\n",
       "      <td>0</td>\n",
       "      <td>0.000000</td>\n",
       "      <td>1.000000</td>\n",
       "    </tr>\n",
       "    <tr>\n",
       "      <th>2</th>\n",
       "      <td>2020</td>\n",
       "      <td>3</td>\n",
       "      <td>31</td>\n",
       "      <td>1</td>\n",
       "      <td>0.781831</td>\n",
       "      <td>0.623490</td>\n",
       "    </tr>\n",
       "    <tr>\n",
       "      <th>3</th>\n",
       "      <td>2020</td>\n",
       "      <td>4</td>\n",
       "      <td>1</td>\n",
       "      <td>2</td>\n",
       "      <td>0.974928</td>\n",
       "      <td>-0.222521</td>\n",
       "    </tr>\n",
       "    <tr>\n",
       "      <th>4</th>\n",
       "      <td>2020</td>\n",
       "      <td>4</td>\n",
       "      <td>2</td>\n",
       "      <td>3</td>\n",
       "      <td>0.433884</td>\n",
       "      <td>-0.900969</td>\n",
       "    </tr>\n",
       "    <tr>\n",
       "      <th>5</th>\n",
       "      <td>2020</td>\n",
       "      <td>4</td>\n",
       "      <td>3</td>\n",
       "      <td>4</td>\n",
       "      <td>-0.433884</td>\n",
       "      <td>-0.900969</td>\n",
       "    </tr>\n",
       "    <tr>\n",
       "      <th>6</th>\n",
       "      <td>2020</td>\n",
       "      <td>4</td>\n",
       "      <td>4</td>\n",
       "      <td>5</td>\n",
       "      <td>-0.974928</td>\n",
       "      <td>-0.222521</td>\n",
       "    </tr>\n",
       "  </tbody>\n",
       "</table>\n",
       "</div>"
      ],
      "text/plain": [
       "   year  month  day  day_of_week  day_of_week_sin  day_of_week_cos\n",
       "0  2020      3   29            6        -0.781831         0.623490\n",
       "1  2020      3   30            0         0.000000         1.000000\n",
       "2  2020      3   31            1         0.781831         0.623490\n",
       "3  2020      4    1            2         0.974928        -0.222521\n",
       "4  2020      4    2            3         0.433884        -0.900969\n",
       "5  2020      4    3            4        -0.433884        -0.900969\n",
       "6  2020      4    4            5        -0.974928        -0.222521"
      ]
     },
     "execution_count": 14,
     "metadata": {},
     "output_type": "execute_result"
    }
   ],
   "source": [
    "days_df.insert(loc=4, column=\"day_of_week_sin\", \n",
    "               value=np.sin(2 * np.pi * days_df[\"day_of_week\"] / days_in_week))\n",
    "days_df.insert(loc=5, column=\"day_of_week_cos\", \n",
    "               value=np.cos(2 * np.pi * days_df[\"day_of_week\"] / days_in_week))\n",
    "days_df.head(n=7)"
   ]
  },
  {
   "cell_type": "code",
   "execution_count": 15,
   "metadata": {},
   "outputs": [
    {
     "data": {
      "text/plain": [
       "<matplotlib.axes._subplots.AxesSubplot at 0x226e4aad288>"
      ]
     },
     "execution_count": 15,
     "metadata": {},
     "output_type": "execute_result"
    },
    {
     "data": {
      "image/png": "[encoded data removed]",
      "text/plain": [
       "<Figure size 720x504 with 1 Axes>"
      ]
     },
     "metadata": {
      "needs_background": "light"
     },
     "output_type": "display_data"
    }
   ],
   "source": [
    "days_df[[\"day_of_week\", \"day_of_week_sin\", \"day_of_week_cos\"]] \\\n",
    "    .plot(figsize=(10.0, 7.0))"
   ]
  },
  {
   "cell_type": "markdown",
   "metadata": {},
   "source": [
    "Gdybyśmy jednak skorzystali wyłącznie z jednej funkcji okresowej, to nalazłyby się dwa niesąsiadujące ze sobą dni tygodnia, dla których wartość tej funkcji była taka sama bądź zbliżona. Stąd też użycie obu funkcji umożliwia ich rozróżnienie."
   ]
  },
  {
   "cell_type": "code",
   "execution_count": 16,
   "metadata": {},
   "outputs": [
    {
     "data": {
      "text/plain": [
       "<matplotlib.axes._subplots.AxesSubplot at 0x226e54b7ec8>"
      ]
     },
     "execution_count": 16,
     "metadata": {},
     "output_type": "execute_result"
    },
    {
     "data": {
      "image/png": "[encoded data removed]",
      "text/plain": [
       "<Figure size 540x540 with 1 Axes>"
      ]
     },
     "metadata": {
      "needs_background": "light"
     },
     "output_type": "display_data"
    }
   ],
   "source": [
    "days_df.plot \\\n",
    "    .scatter(\"day_of_week_sin\", \"day_of_week_cos\",\n",
    "             figsize=(7.5, 7.5))"
   ]
  },
  {
   "cell_type": "code",
   "execution_count": null,
   "metadata": {},
   "outputs": [],
   "source": []
  }
 ],
 "metadata": {
  "kernelspec": {
   "display_name": "Python 3",
   "language": "python",
   "name": "python3"
  },
  "language_info": {
   "codemirror_mode": {
    "name": "ipython",
    "version": 3
   },
   "file_extension": ".py",
   "mimetype": "text/x-python",
   "name": "python",
   "nbconvert_exporter": "python",
   "pygments_lexer": "ipython3",
   "version": "3.7.7"
  }
 },
 "nbformat": 4,
 "nbformat_minor": 4
}
