{
 "cells": [
  {
   "cell_type": "markdown",
   "metadata": {},
   "source": [
    "# 2.7. Ekstrakcja cech uczących\n",
    "\n",
    "Rzadko zdarzy się nam sytuacja, w której będziemy w stanie wykorzystać wszystkie dane nam cechy bezpośrednio. Czasem, **na podstawie posiadanej wiedzy domenowej**, możemy dokonać pewnych obliczeń, które uwypuklą różnice pomiędzy obserwacjami. Dodatkowo, warto również rozważyć uwzględnienie zewnętrznych źródeł, aby wzbogacić to co już mamy nowymi informacjami. "
   ]
  },
  {
   "cell_type": "markdown",
   "metadata": {},
   "source": [
    "## Wyciąganie dodatkowych informacji z dat\n",
    "\n",
    "Daty oraz znaczniki czasu są dość wdzięcznymi typami danych jeśli chodzi o tworzenie dodatkowych cech. W rozdziale 2.4 omówiliśmy już metodę zakodowania danych cyklicznych, jednak nie jest to jedyna możliwość.\n",
    "\n",
    "### Wykorzystanie zewnętrznych kalendarzy\n",
    "\n",
    "Jeśli zakładamy, że nasze dane mają pewne zależności od dat, to dość istotną rzeczą może okazać się również fakt innych wydarzeń mających miejsce w okolicznych samych dniach. Np. w danych sprzedażowych, bardzo często duży wpływ ma fakt występowania świąt, dni takich jak Black Friday czy dni wolnych od pracy. Warto więc dołączyć informacje o tym do naszego zbioru, zwłaszcza jeśli święta są ruchome."
   ]
  },
  {
   "cell_type": "code",
   "execution_count": 1,
   "metadata": {},
   "outputs": [],
   "source": [
    "import pandas as pd"
   ]
  },
  {
   "cell_type": "code",
   "execution_count": 2,
   "metadata": {},
   "outputs": [],
   "source": [
    "easter_date = \"2020-04-12\""
   ]
  },
  {
   "cell_type": "code",
   "execution_count": 8,
   "metadata": {},
   "outputs": [
    {
     "data": {
      "text/plain": [
       "DatetimeIndex(['2020-03-03', '2020-03-13', '2020-03-23', '2020-04-02',\n",
       "               '2020-04-12', '2020-04-22', '2020-05-02', '2020-05-12',\n",
       "               '2020-05-22', '2020-06-01'],\n",
       "              dtype='datetime64[ns]', freq='10D')"
      ]
     },
     "execution_count": 8,
     "metadata": {},
     "output_type": "execute_result"
    }
   ],
   "source": [
    "days = pd.date_range(\"2020-03-03\", periods=10, \n",
    "                     freq=\"10D\")\n",
    "days"
   ]
  },
  {
   "cell_type": "code",
   "execution_count": 9,
   "metadata": {},
   "outputs": [
    {
     "data": {
      "text/plain": [
       "TimedeltaIndex([ '40 days',  '30 days',  '20 days',  '10 days',   '0 days',\n",
       "                '-10 days', '-20 days', '-30 days', '-40 days', '-50 days'],\n",
       "               dtype='timedelta64[ns]', freq=None)"
      ]
     },
     "execution_count": 9,
     "metadata": {},
     "output_type": "execute_result"
    }
   ],
   "source": [
    "pd.to_datetime(easter_date) - days"
   ]
  },
  {
   "cell_type": "code",
   "execution_count": 10,
   "metadata": {},
   "outputs": [
    {
     "data": {
      "text/plain": [
       "array([False, False, False, False,  True, False, False, False, False,\n",
       "       False])"
      ]
     },
     "execution_count": 10,
     "metadata": {},
     "output_type": "execute_result"
    }
   ],
   "source": [
    "pd.to_datetime(easter_date) == days"
   ]
  },
  {
   "cell_type": "markdown",
   "metadata": {},
   "source": [
    "## Dane geograficzne\n",
    "\n",
    "Dość zaskakujące może być to, iż dane geograficzne, typowo określone jako para koordynatów (długość i szerokość geograficzna), będąc z założenia łatwo interpretowalne w kategoriach odległości, również wymagają czasem dodatkowego przetwarzania. Chociażby linia zmian daty wymaga zakodowania geolokalizacji jako informacji cyklicznej.\n",
    "\n",
    "Dodatkowo, samo położenie geograficzne to pewna konwencja zapisu i nie wynikają z niej chociażby granice państw, województw czy miast."
   ]
  },
  {
   "cell_type": "markdown",
   "metadata": {},
   "source": [
    "## Dane numeryczne\n",
    "\n",
    "Szczególnie w przypadku danych fizycznych czy społecznych, wykorzystanie matematycznych transformacji wejściowych danych może być przydatne. \n",
    "\n",
    "Dobrym przykładem jest chociażby poziom natężenia dźwięku. Dźwięk na poziomie 50 dB nie jest wcale dwukrotnie głośniejszy niż 25 dB. Mówi się, iż wzrost o 10 dB odczuwamy jako podwojenie głośności dźwięku."
   ]
  },
  {
   "cell_type": "code",
   "execution_count": null,
   "metadata": {},
   "outputs": [],
   "source": []
  }
 ],
 "metadata": {
  "kernelspec": {
   "display_name": "Python 3",
   "language": "python",
   "name": "python3"
  },
  "language_info": {
   "codemirror_mode": {
    "name": "ipython",
    "version": 3
   },
   "file_extension": ".py",
   "mimetype": "text/x-python",
   "name": "python",
   "nbconvert_exporter": "python",
   "pygments_lexer": "ipython3",
   "version": "3.7.7"
  }
 },
 "nbformat": 4,
 "nbformat_minor": 4
}
